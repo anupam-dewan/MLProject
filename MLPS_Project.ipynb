{
 "cells": [
  {
   "cell_type": "code",
   "execution_count": 21,
   "metadata": {
    "collapsed": true
   },
   "outputs": [],
   "source": [
    "import numpy as np\n",
    "import pandas as pd\n",
    "import matplotlib.pyplot as plt\n",
    "plt.style.use('ggplot')\n",
    "%matplotlib inline\n"
   ]
  },
  {
   "cell_type": "code",
   "execution_count": 22,
   "metadata": {
    "collapsed": true
   },
   "outputs": [],
   "source": [
    "train = pd.read_csv('project/train_users_2.csv')\n",
    "test = pd.read_csv('project/test_users.csv')\n",
    "#gender = pd.read_csv('project/age_gender_bkts.csv')\n",
    "sessions = pd.read_csv('project/sessions.csv')\n",
    "countries= pd.read_csv('project/countries.csv')\n",
    "train = train.dropna()\n",
    "test = test.dropna()"
   ]
  },
  {
   "cell_type": "code",
   "execution_count": 23,
   "metadata": {
    "collapsed": true
   },
   "outputs": [],
   "source": [
    "from datetime import datetime \n",
    "current_year = datetime.now().year\n",
    "val = train.age.values\n",
    "train['age'] = np.where(np.logical_and(val>1920, val<2008), current_year-val, val)\n",
    "train['age'] = np.where(np.logical_or(val<10, val>100), np.nan, val)"
   ]
  },
  {
   "cell_type": "code",
   "execution_count": 24,
   "metadata": {},
   "outputs": [
    {
     "data": {
      "text/plain": [
       "<matplotlib.axes._subplots.AxesSubplot at 0x2c22d431d30>"
      ]
     },
     "execution_count": 24,
     "metadata": {},
     "output_type": "execute_result"
    },
    {
     "data": {
      "image/png": "[encoded data removed]",
      "text/plain": [
       "<matplotlib.figure.Figure at 0x2c22285def0>"
      ]
     },
     "metadata": {},
     "output_type": "display_data"
    }
   ],
   "source": [
    "train.age.hist(bins=10)"
   ]
  },
  {
   "cell_type": "code",
   "execution_count": 25,
   "metadata": {
    "collapsed": true
   },
   "outputs": [],
   "source": [
    "gender_val = train.gender.values\n",
    "train['gender'] = np.where(gender_val=='-unknown-', 'OTHER', gender_val)"
   ]
  },
  {
   "cell_type": "code",
   "execution_count": 26,
   "metadata": {},
   "outputs": [],
   "source": [
    "# plt.hist(list(train['gender']))"
   ]
  },
  {
   "cell_type": "code",
   "execution_count": 27,
   "metadata": {},
   "outputs": [
    {
     "data": {
      "text/plain": [
       "count      68171\n",
       "unique         3\n",
       "top       FEMALE\n",
       "freq       29863\n",
       "Name: gender, dtype: object"
      ]
     },
     "execution_count": 27,
     "metadata": {},
     "output_type": "execute_result"
    }
   ],
   "source": [
    "train['gender'].describe()"
   ]
  },
  {
   "cell_type": "code",
   "execution_count": 52,
   "metadata": {},
   "outputs": [
    {
     "data": {
      "text/plain": [
       "20090319043255"
      ]
     },
     "execution_count": 52,
     "metadata": {},
     "output_type": "execute_result"
    }
   ],
   "source": [
    "train = pd.read_csv('project/train_users_2.csv')\n",
    "train.timestamp_first_active[0]"
   ]
  },
  {
   "cell_type": "code",
   "execution_count": 53,
   "metadata": {},
   "outputs": [],
   "source": [
    "col = train.timestamp_first_active\n",
    "year= [int(str(col[i])[:4]) for i in range(len(col))]\n",
    "month= [int(str(col[i])[4:6]) for i in range(len(col))]\n",
    "date = [int(str(col[i])[4:8]) for i in range(len(col))]\n",
    "hour = [int(str(col[i])[8:10]) for i in range(len(col))]\n",
    "minn = [int(str(col[i])[10:12]) for i in range(len(col))]\n",
    "secs = [int(str(col[i])[12:]) for i in range(len(col))]"
   ]
  },
  {
   "cell_type": "code",
   "execution_count": 54,
   "metadata": {
    "collapsed": true
   },
   "outputs": [],
   "source": [
    "train.drop('timestamp_first_active', axis=1, inplace=True)"
   ]
  },
  {
   "cell_type": "code",
   "execution_count": 58,
   "metadata": {},
   "outputs": [],
   "source": [
    "browser_type = train.first_browser\n",
    "train.first_browser = np.where(browser_type=='-unknown-', 'OTHER', browser_type)"
   ]
  },
  {
   "cell_type": "code",
   "execution_count": 59,
   "metadata": {
    "collapsed": true
   },
   "outputs": [],
   "source": [
    "from collections import Counter\n",
    "dict1 = Counter(train.signup_method)"
   ]
  },
  {
   "cell_type": "code",
   "execution_count": 60,
   "metadata": {},
   "outputs": [
    {
     "name": "stdout",
     "output_type": "stream",
     "text": [
      "Counter({'basic': 152897, 'facebook': 60008, 'google': 546})\n"
     ]
    },
    {
     "data": {
      "text/plain": [
       "([<matplotlib.axis.XTick at 0x2c20167d9e8>,\n",
       "  <matplotlib.axis.XTick at 0x2c20167de10>,\n",
       "  <matplotlib.axis.XTick at 0x2c20590e1d0>],\n",
       " <a list of 3 Text xticklabel objects>)"
      ]
     },
     "execution_count": 60,
     "metadata": {},
     "output_type": "execute_result"
    },
    {
     "data": {
      "image/png": "[encoded data removed]",
      "text/plain": [
       "<matplotlib.figure.Figure at 0x2c24575add8>"
      ]
     },
     "metadata": {},
     "output_type": "display_data"
    }
   ],
   "source": [
    "y=list(dict1.values())\n",
    "x=list(dict1.keys())\n",
    "print(dict1)\n",
    "plt.bar(range(len(x)), y, align='center')\n",
    "plt.xticks(range(len(x)), x, rotation=90)"
   ]
  },
  {
   "cell_type": "code",
   "execution_count": 61,
   "metadata": {
    "collapsed": true
   },
   "outputs": [],
   "source": [
    "train.drop('date_first_booking', axis=1, inplace=True)"
   ]
  },
  {
   "cell_type": "code",
   "execution_count": null,
   "metadata": {
    "collapsed": true
   },
   "outputs": [],
   "source": []
  }
 ],
 "metadata": {
  "kernelspec": {
   "display_name": "Python 3",
   "language": "python",
   "name": "python3"
  },
  "language_info": {
   "codemirror_mode": {
    "name": "ipython",
    "version": 3
   },
   "file_extension": ".py",
   "mimetype": "text/x-python",
   "name": "python",
   "nbconvert_exporter": "python",
   "pygments_lexer": "ipython3",
   "version": "3.6.3"
  }
 },
 "nbformat": 4,
 "nbformat_minor": 2
}
